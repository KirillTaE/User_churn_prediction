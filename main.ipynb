{
 "cells": [
  {
   "cell_type": "markdown",
   "metadata": {
    "id": "IrDNNkNTEEYz"
   },
   "source": [
    "# Исследование"
   ]
  },
  {
   "cell_type": "code",
   "execution_count": 27,
   "metadata": {
    "colab": {
     "base_uri": "https://localhost:8080/"
    },
    "id": "lzLqEeZKEEYz",
    "outputId": "2764d1ab-d5e7-484f-ef00-f2f5942cfc3e"
   },
   "outputs": [
    {
     "name": "stdout",
     "output_type": "stream",
     "text": [
      "Drive already mounted at /content/drive/; to attempt to forcibly remount, call drive.mount(\"/content/drive/\", force_remount=True).\n"
     ]
    }
   ],
   "source": [
    "from google.colab import drive\n",
    "drive.mount('/content/drive/')\n",
    "import pandas as pd\n",
    "import numpy as np\n",
    "from matplotlib import pyplot as plt\n",
    "import seaborn as sns"
   ]
  },
  {
   "cell_type": "markdown",
   "metadata": {
    "id": "LOlxdURSEEY3"
   },
   "source": [
    "## Загрузка данных\n"
   ]
  },
  {
   "cell_type": "code",
   "execution_count": 28,
   "metadata": {
    "id": "KgnkkF5bEEY9"
   },
   "outputs": [],
   "source": [
    "# Для вашего удобства списки с именами разных колонок\n",
    "\n",
    "# Числовые признаки\n",
    "num_cols = [\n",
    "    'ClientPeriod',\n",
    "    'MonthlySpending',\n",
    "    'TotalSpent'\n",
    "]\n",
    "\n",
    "# Категориальные признаки\n",
    "cat_cols = [\n",
    "    'Sex',\n",
    "    'IsSeniorCitizen',\n",
    "    'HasPartner',\n",
    "    'HasChild',\n",
    "    'HasPhoneService',\n",
    "    'HasMultiplePhoneNumbers',\n",
    "    'HasInternetService',\n",
    "    'HasOnlineSecurityService',\n",
    "    'HasOnlineBackup',\n",
    "    'HasDeviceProtection',\n",
    "    'HasTechSupportAccess',\n",
    "    'HasOnlineTV',\n",
    "    'HasMovieSubscription',\n",
    "    'HasContractPhone',\n",
    "    'IsBillingPaperless',\n",
    "    'PaymentMethod'\n",
    "]\n",
    "\n",
    "feature_cols = num_cols + cat_cols\n",
    "target_col = 'Churn'"
   ]
  },
  {
   "cell_type": "code",
   "execution_count": 29,
   "metadata": {
    "colab": {
     "base_uri": "https://localhost:8080/",
     "height": 340
    },
    "id": "pw-Brue9EEY3",
    "outputId": "ccd408ac-4105-4f54-93be-5b80df3d4693"
   },
   "outputs": [
    {
     "data": {
      "text/html": [
       "\n",
       "  <div id=\"df-d80186fd-d4b1-4c5f-b721-80b0b279eb1d\">\n",
       "    <div class=\"colab-df-container\">\n",
       "      <div>\n",
       "<style scoped>\n",
       "    .dataframe tbody tr th:only-of-type {\n",
       "        vertical-align: middle;\n",
       "    }\n",
       "\n",
       "    .dataframe tbody tr th {\n",
       "        vertical-align: top;\n",
       "    }\n",
       "\n",
       "    .dataframe thead th {\n",
       "        text-align: right;\n",
       "    }\n",
       "</style>\n",
       "<table border=\"1\" class=\"dataframe\">\n",
       "  <thead>\n",
       "    <tr style=\"text-align: right;\">\n",
       "      <th></th>\n",
       "      <th>ClientPeriod</th>\n",
       "      <th>MonthlySpending</th>\n",
       "      <th>TotalSpent</th>\n",
       "      <th>Sex</th>\n",
       "      <th>IsSeniorCitizen</th>\n",
       "      <th>HasPartner</th>\n",
       "      <th>HasChild</th>\n",
       "      <th>HasPhoneService</th>\n",
       "      <th>HasMultiplePhoneNumbers</th>\n",
       "      <th>HasInternetService</th>\n",
       "      <th>HasOnlineSecurityService</th>\n",
       "      <th>HasOnlineBackup</th>\n",
       "      <th>HasDeviceProtection</th>\n",
       "      <th>HasTechSupportAccess</th>\n",
       "      <th>HasOnlineTV</th>\n",
       "      <th>HasMovieSubscription</th>\n",
       "      <th>HasContractPhone</th>\n",
       "      <th>IsBillingPaperless</th>\n",
       "      <th>PaymentMethod</th>\n",
       "      <th>Churn</th>\n",
       "    </tr>\n",
       "  </thead>\n",
       "  <tbody>\n",
       "    <tr>\n",
       "      <th>0</th>\n",
       "      <td>55</td>\n",
       "      <td>19.50</td>\n",
       "      <td>1026.35</td>\n",
       "      <td>Male</td>\n",
       "      <td>0</td>\n",
       "      <td>Yes</td>\n",
       "      <td>Yes</td>\n",
       "      <td>Yes</td>\n",
       "      <td>No</td>\n",
       "      <td>No</td>\n",
       "      <td>No internet service</td>\n",
       "      <td>No internet service</td>\n",
       "      <td>No internet service</td>\n",
       "      <td>No internet service</td>\n",
       "      <td>No internet service</td>\n",
       "      <td>No internet service</td>\n",
       "      <td>One year</td>\n",
       "      <td>No</td>\n",
       "      <td>Mailed check</td>\n",
       "      <td>0</td>\n",
       "    </tr>\n",
       "    <tr>\n",
       "      <th>1</th>\n",
       "      <td>72</td>\n",
       "      <td>25.85</td>\n",
       "      <td>1872.2</td>\n",
       "      <td>Male</td>\n",
       "      <td>0</td>\n",
       "      <td>Yes</td>\n",
       "      <td>No</td>\n",
       "      <td>Yes</td>\n",
       "      <td>Yes</td>\n",
       "      <td>No</td>\n",
       "      <td>No internet service</td>\n",
       "      <td>No internet service</td>\n",
       "      <td>No internet service</td>\n",
       "      <td>No internet service</td>\n",
       "      <td>No internet service</td>\n",
       "      <td>No internet service</td>\n",
       "      <td>Two year</td>\n",
       "      <td>No</td>\n",
       "      <td>Credit card (automatic)</td>\n",
       "      <td>0</td>\n",
       "    </tr>\n",
       "    <tr>\n",
       "      <th>2</th>\n",
       "      <td>1</td>\n",
       "      <td>75.90</td>\n",
       "      <td>75.9</td>\n",
       "      <td>Male</td>\n",
       "      <td>0</td>\n",
       "      <td>No</td>\n",
       "      <td>No</td>\n",
       "      <td>Yes</td>\n",
       "      <td>No</td>\n",
       "      <td>Fiber optic</td>\n",
       "      <td>No</td>\n",
       "      <td>No</td>\n",
       "      <td>No</td>\n",
       "      <td>Yes</td>\n",
       "      <td>No</td>\n",
       "      <td>No</td>\n",
       "      <td>Month-to-month</td>\n",
       "      <td>Yes</td>\n",
       "      <td>Electronic check</td>\n",
       "      <td>1</td>\n",
       "    </tr>\n",
       "    <tr>\n",
       "      <th>3</th>\n",
       "      <td>32</td>\n",
       "      <td>79.30</td>\n",
       "      <td>2570</td>\n",
       "      <td>Female</td>\n",
       "      <td>1</td>\n",
       "      <td>Yes</td>\n",
       "      <td>No</td>\n",
       "      <td>Yes</td>\n",
       "      <td>Yes</td>\n",
       "      <td>Fiber optic</td>\n",
       "      <td>No</td>\n",
       "      <td>No</td>\n",
       "      <td>Yes</td>\n",
       "      <td>No</td>\n",
       "      <td>No</td>\n",
       "      <td>No</td>\n",
       "      <td>Month-to-month</td>\n",
       "      <td>No</td>\n",
       "      <td>Mailed check</td>\n",
       "      <td>0</td>\n",
       "    </tr>\n",
       "    <tr>\n",
       "      <th>4</th>\n",
       "      <td>60</td>\n",
       "      <td>115.25</td>\n",
       "      <td>6758.45</td>\n",
       "      <td>Female</td>\n",
       "      <td>0</td>\n",
       "      <td>Yes</td>\n",
       "      <td>Yes</td>\n",
       "      <td>Yes</td>\n",
       "      <td>Yes</td>\n",
       "      <td>Fiber optic</td>\n",
       "      <td>Yes</td>\n",
       "      <td>Yes</td>\n",
       "      <td>Yes</td>\n",
       "      <td>Yes</td>\n",
       "      <td>Yes</td>\n",
       "      <td>Yes</td>\n",
       "      <td>Two year</td>\n",
       "      <td>No</td>\n",
       "      <td>Credit card (automatic)</td>\n",
       "      <td>0</td>\n",
       "    </tr>\n",
       "  </tbody>\n",
       "</table>\n",
       "</div>\n",
       "      <button class=\"colab-df-convert\" onclick=\"convertToInteractive('df-d80186fd-d4b1-4c5f-b721-80b0b279eb1d')\"\n",
       "              title=\"Convert this dataframe to an interactive table.\"\n",
       "              style=\"display:none;\">\n",
       "        \n",
       "  <svg xmlns=\"http://www.w3.org/2000/svg\" height=\"24px\"viewBox=\"0 0 24 24\"\n",
       "       width=\"24px\">\n",
       "    <path d=\"M0 0h24v24H0V0z\" fill=\"none\"/>\n",
       "    <path d=\"M18.56 5.44l.94 2.06.94-2.06 2.06-.94-2.06-.94-.94-2.06-.94 2.06-2.06.94zm-11 1L8.5 8.5l.94-2.06 2.06-.94-2.06-.94L8.5 2.5l-.94 2.06-2.06.94zm10 10l.94 2.06.94-2.06 2.06-.94-2.06-.94-.94-2.06-.94 2.06-2.06.94z\"/><path d=\"M17.41 7.96l-1.37-1.37c-.4-.4-.92-.59-1.43-.59-.52 0-1.04.2-1.43.59L10.3 9.45l-7.72 7.72c-.78.78-.78 2.05 0 2.83L4 21.41c.39.39.9.59 1.41.59.51 0 1.02-.2 1.41-.59l7.78-7.78 2.81-2.81c.8-.78.8-2.07 0-2.86zM5.41 20L4 18.59l7.72-7.72 1.47 1.35L5.41 20z\"/>\n",
       "  </svg>\n",
       "      </button>\n",
       "      \n",
       "  <style>\n",
       "    .colab-df-container {\n",
       "      display:flex;\n",
       "      flex-wrap:wrap;\n",
       "      gap: 12px;\n",
       "    }\n",
       "\n",
       "    .colab-df-convert {\n",
       "      background-color: #E8F0FE;\n",
       "      border: none;\n",
       "      border-radius: 50%;\n",
       "      cursor: pointer;\n",
       "      display: none;\n",
       "      fill: #1967D2;\n",
       "      height: 32px;\n",
       "      padding: 0 0 0 0;\n",
       "      width: 32px;\n",
       "    }\n",
       "\n",
       "    .colab-df-convert:hover {\n",
       "      background-color: #E2EBFA;\n",
       "      box-shadow: 0px 1px 2px rgba(60, 64, 67, 0.3), 0px 1px 3px 1px rgba(60, 64, 67, 0.15);\n",
       "      fill: #174EA6;\n",
       "    }\n",
       "\n",
       "    [theme=dark] .colab-df-convert {\n",
       "      background-color: #3B4455;\n",
       "      fill: #D2E3FC;\n",
       "    }\n",
       "\n",
       "    [theme=dark] .colab-df-convert:hover {\n",
       "      background-color: #434B5C;\n",
       "      box-shadow: 0px 1px 3px 1px rgba(0, 0, 0, 0.15);\n",
       "      filter: drop-shadow(0px 1px 2px rgba(0, 0, 0, 0.3));\n",
       "      fill: #FFFFFF;\n",
       "    }\n",
       "  </style>\n",
       "\n",
       "      <script>\n",
       "        const buttonEl =\n",
       "          document.querySelector('#df-d80186fd-d4b1-4c5f-b721-80b0b279eb1d button.colab-df-convert');\n",
       "        buttonEl.style.display =\n",
       "          google.colab.kernel.accessAllowed ? 'block' : 'none';\n",
       "\n",
       "        async function convertToInteractive(key) {\n",
       "          const element = document.querySelector('#df-d80186fd-d4b1-4c5f-b721-80b0b279eb1d');\n",
       "          const dataTable =\n",
       "            await google.colab.kernel.invokeFunction('convertToInteractive',\n",
       "                                                     [key], {});\n",
       "          if (!dataTable) return;\n",
       "\n",
       "          const docLinkHtml = 'Like what you see? Visit the ' +\n",
       "            '<a target=\"_blank\" href=https://colab.research.google.com/notebooks/data_table.ipynb>data table notebook</a>'\n",
       "            + ' to learn more about interactive tables.';\n",
       "          element.innerHTML = '';\n",
       "          dataTable['output_type'] = 'display_data';\n",
       "          await google.colab.output.renderOutput(dataTable, element);\n",
       "          const docLink = document.createElement('div');\n",
       "          docLink.innerHTML = docLinkHtml;\n",
       "          element.appendChild(docLink);\n",
       "        }\n",
       "      </script>\n",
       "    </div>\n",
       "  </div>\n",
       "  "
      ],
      "text/plain": [
       "   ClientPeriod  MonthlySpending TotalSpent     Sex  IsSeniorCitizen  \\\n",
       "0            55            19.50    1026.35    Male                0   \n",
       "1            72            25.85     1872.2    Male                0   \n",
       "2             1            75.90       75.9    Male                0   \n",
       "3            32            79.30       2570  Female                1   \n",
       "4            60           115.25    6758.45  Female                0   \n",
       "\n",
       "  HasPartner HasChild HasPhoneService HasMultiplePhoneNumbers  \\\n",
       "0        Yes      Yes             Yes                      No   \n",
       "1        Yes       No             Yes                     Yes   \n",
       "2         No       No             Yes                      No   \n",
       "3        Yes       No             Yes                     Yes   \n",
       "4        Yes      Yes             Yes                     Yes   \n",
       "\n",
       "  HasInternetService HasOnlineSecurityService      HasOnlineBackup  \\\n",
       "0                 No      No internet service  No internet service   \n",
       "1                 No      No internet service  No internet service   \n",
       "2        Fiber optic                       No                   No   \n",
       "3        Fiber optic                       No                   No   \n",
       "4        Fiber optic                      Yes                  Yes   \n",
       "\n",
       "   HasDeviceProtection HasTechSupportAccess          HasOnlineTV  \\\n",
       "0  No internet service  No internet service  No internet service   \n",
       "1  No internet service  No internet service  No internet service   \n",
       "2                   No                  Yes                   No   \n",
       "3                  Yes                   No                   No   \n",
       "4                  Yes                  Yes                  Yes   \n",
       "\n",
       "  HasMovieSubscription HasContractPhone IsBillingPaperless  \\\n",
       "0  No internet service         One year                 No   \n",
       "1  No internet service         Two year                 No   \n",
       "2                   No   Month-to-month                Yes   \n",
       "3                   No   Month-to-month                 No   \n",
       "4                  Yes         Two year                 No   \n",
       "\n",
       "             PaymentMethod  Churn  \n",
       "0             Mailed check      0  \n",
       "1  Credit card (automatic)      0  \n",
       "2         Electronic check      1  \n",
       "3             Mailed check      0  \n",
       "4  Credit card (automatic)      0  "
      ]
     },
     "execution_count": 29,
     "metadata": {},
     "output_type": "execute_result"
    }
   ],
   "source": [
    "data = pd.read_csv('/content/drive/MyDrive/colab/train.csv')\n",
    "test_df = pd.read_csv('/content/drive/MyDrive/colab/test.csv')\n",
    "data.head()"
   ]
  },
  {
   "cell_type": "code",
   "execution_count": 30,
   "metadata": {
    "id": "d_HxfeBmA1WK"
   },
   "outputs": [],
   "source": [
    "data['TotalSpent'] = data['TotalSpent'].replace(' ', np.NaN).astype(float)\n",
    "data['TotalSpent'] = data['TotalSpent'].fillna(0)\n",
    "\n",
    "test_df['TotalSpent'] = test_df['TotalSpent'].replace(' ', np.NaN).astype(float)\n",
    "test_df['TotalSpent'] = test_df['TotalSpent'].fillna(0)"
   ]
  },
  {
   "cell_type": "code",
   "execution_count": 31,
   "metadata": {
    "colab": {
     "base_uri": "https://localhost:8080/"
    },
    "id": "tHC6gWabEEZA",
    "outputId": "06740e53-fbda-418e-e7fa-bf2cd4d90165"
   },
   "outputs": [
    {
     "data": {
      "text/plain": [
       "ClientPeriod                0\n",
       "MonthlySpending             0\n",
       "TotalSpent                  0\n",
       "Sex                         0\n",
       "IsSeniorCitizen             0\n",
       "HasPartner                  0\n",
       "HasChild                    0\n",
       "HasPhoneService             0\n",
       "HasMultiplePhoneNumbers     0\n",
       "HasInternetService          0\n",
       "HasOnlineSecurityService    0\n",
       "HasOnlineBackup             0\n",
       "HasDeviceProtection         0\n",
       "HasTechSupportAccess        0\n",
       "HasOnlineTV                 0\n",
       "HasMovieSubscription        0\n",
       "HasContractPhone            0\n",
       "IsBillingPaperless          0\n",
       "PaymentMethod               0\n",
       "Churn                       0\n",
       "dtype: int64"
      ]
     },
     "execution_count": 31,
     "metadata": {},
     "output_type": "execute_result"
    }
   ],
   "source": [
    "data.isna().sum()"
   ]
  },
  {
   "cell_type": "markdown",
   "metadata": {
    "id": "dK370bPCEEZD"
   },
   "source": [
    "## Анализ данных"
   ]
  },
  {
   "cell_type": "code",
   "execution_count": 32,
   "metadata": {
    "colab": {
     "base_uri": "https://localhost:8080/",
     "height": 336
    },
    "id": "NZkbgFJZEEZE",
    "outputId": "58008a3a-0e5e-4fbd-e983-c1b6a12f38e9"
   },
   "outputs": [
    {
     "data": {
      "image/png": "[encoded data removed]",
      "text/plain": [
       "<Figure size 1440x360 with 4 Axes>"
      ]
     },
     "metadata": {
      "needs_background": "light"
     },
     "output_type": "display_data"
    }
   ],
   "source": [
    "data.hist(num_cols, figsize=(20,5), bins=30);"
   ]
  },
  {
   "cell_type": "code",
   "execution_count": 33,
   "metadata": {
    "colab": {
     "base_uri": "https://localhost:8080/",
     "height": 346
    },
    "id": "bQ8UuUc8MyKx",
    "outputId": "dc4e4548-5b59-48eb-a5ca-be4aec4dc0d3"
   },
   "outputs": [
    {
     "data": {
      "image/png": "[encoded data removed]",
      "text/plain": [
       "<Figure size 432x288 with 2 Axes>"
      ]
     },
     "metadata": {
      "needs_background": "light"
     },
     "output_type": "display_data"
    }
   ],
   "source": [
    "sns.heatmap(data.corr(), annot = True);"
   ]
  },
  {
   "cell_type": "code",
   "execution_count": 34,
   "metadata": {
    "colab": {
     "base_uri": "https://localhost:8080/",
     "height": 1000
    },
    "id": "IWwkhFC-XREV",
    "outputId": "f4e60b37-46fd-46d3-e85c-8d7217d70b52"
   },
   "outputs": [
    {
     "data": {
      "image/png": "[encoded data removed]",
      "text/plain": [
       "<Figure size 288x288 with 1 Axes>"
      ]
     },
     "metadata": {},
     "output_type": "display_data"
    },
    {
     "data": {
      "image/png": "[encoded data removed]",
      "text/plain": [
       "<Figure size 288x288 with 1 Axes>"
      ]
     },
     "metadata": {},
     "output_type": "display_data"
    },
    {
     "data": {
      "image/png": "[encoded data removed]",
      "text/plain": [
       "<Figure size 288x288 with 1 Axes>"
      ]
     },
     "metadata": {},
     "output_type": "display_data"
    },
    {
     "data": {
      "image/png": "[encoded data removed]",
      "text/plain": [
       "<Figure size 288x288 with 1 Axes>"
      ]
     },
     "metadata": {},
     "output_type": "display_data"
    },
    {
     "data": {
      "image/png": "[encoded data removed]",
      "text/plain": [
       "<Figure size 288x288 with 1 Axes>"
      ]
     },
     "metadata": {},
     "output_type": "display_data"
    },
    {
     "data": {
      "image/png": "[encoded data removed]",
      "text/plain": [
       "<Figure size 288x288 with 1 Axes>"
      ]
     },
     "metadata": {},
     "output_type": "display_data"
    },
    {
     "data": {
      "image/png": "[encoded data removed]",
      "text/plain": [
       "<Figure size 288x288 with 1 Axes>"
      ]
     },
     "metadata": {},
     "output_type": "display_data"
    },
    {
     "data": {
      "image/png": "[encoded data removed]",
      "text/plain": [
       "<Figure size 288x288 with 1 Axes>"
      ]
     },
     "metadata": {},
     "output_type": "display_data"
    },
    {
     "data": {
      "image/png": "[encoded data removed]",
      "text/plain": [
       "<Figure size 288x288 with 1 Axes>"
      ]
     },
     "metadata": {},
     "output_type": "display_data"
    },
    {
     "data": {
      "image/png": "[encoded data removed]",
      "text/plain": [
       "<Figure size 288x288 with 1 Axes>"
      ]
     },
     "metadata": {},
     "output_type": "display_data"
    },
    {
     "data": {
      "image/png": "[encoded data removed]",
      "text/plain": [
       "<Figure size 288x288 with 1 Axes>"
      ]
     },
     "metadata": {},
     "output_type": "display_data"
    },
    {
     "data": {
      "image/png": "[encoded data removed]",
      "text/plain": [
       "<Figure size 288x288 with 1 Axes>"
      ]
     },
     "metadata": {},
     "output_type": "display_data"
    },
    {
     "data": {
      "image/png": "[encoded data removed]",
      "text/plain": [
       "<Figure size 288x288 with 1 Axes>"
      ]
     },
     "metadata": {},
     "output_type": "display_data"
    },
    {
     "data": {
      "image/png": "[encoded data removed]",
      "text/plain": [
       "<Figure size 288x288 with 1 Axes>"
      ]
     },
     "metadata": {},
     "output_type": "display_data"
    },
    {
     "data": {
      "image/png": "[encoded data removed]",
      "text/plain": [
       "<Figure size 288x288 with 1 Axes>"
      ]
     },
     "metadata": {},
     "output_type": "display_data"
    },
    {
     "data": {
      "image/png": "[encoded data removed]",
      "text/plain": [
       "<Figure size 288x288 with 1 Axes>"
      ]
     },
     "metadata": {},
     "output_type": "display_data"
    }
   ],
   "source": [
    "import matplotlib.pyplot as plt\n",
    "%matplotlib inline\n",
    "for i in cat_cols:\n",
    "    ts = data[i].value_counts()\n",
    "    ts.plot(kind='pie', figsize=(4, 4))\n",
    "    plt.show()"
   ]
  },
  {
   "cell_type": "code",
   "execution_count": 35,
   "metadata": {
    "colab": {
     "base_uri": "https://localhost:8080/",
     "height": 248
    },
    "id": "fwfksF1gEEZI",
    "outputId": "825f1fa2-9ee1-4a56-8407-5ce5dc074132"
   },
   "outputs": [
    {
     "data": {
      "image/png": "[encoded data removed]",
      "text/plain": [
       "<Figure size 288x288 with 1 Axes>"
      ]
     },
     "metadata": {},
     "output_type": "display_data"
    }
   ],
   "source": [
    "data[target_col].value_counts().plot(kind='pie', figsize=(4, 4));"
   ]
  },
  {
   "cell_type": "markdown",
   "metadata": {
    "id": "nEQUxW05oZLV"
   },
   "source": [
    "**Данные являются несбалансированными.**\n",
    "В таких случаях нужно 1) не использовать accuracy как метрику 2) использовать методы борьбы с imbalanced dataset (обычно если датасет сильно несбалансирован, т.е. класса 1 в 20 раз меньше класса 0)."
   ]
  },
  {
   "cell_type": "markdown",
   "metadata": {
    "id": "DviiJd8REEZK"
   },
   "source": [
    "## Применение линейных моделей"
   ]
  },
  {
   "cell_type": "code",
   "execution_count": 36,
   "metadata": {
    "id": "xHCLDmwqEEZL"
   },
   "outputs": [],
   "source": [
    "from sklearn.linear_model import LogisticRegression, LogisticRegressionCV\n",
    "from sklearn.model_selection import train_test_split, GridSearchCV\n",
    "from sklearn.preprocessing import RobustScaler, LabelEncoder, normalize\n",
    "from sklearn.pipeline import make_pipeline"
   ]
  },
  {
   "cell_type": "code",
   "execution_count": 37,
   "metadata": {
    "id": "P2Yv3uYtEEZO"
   },
   "outputs": [],
   "source": [
    "data1 = pd.get_dummies(data[cat_cols])\n",
    "data1 = pd.concat((pd.DataFrame(normalize(data[num_cols]), columns = num_cols), data1), axis=1)\n",
    "\n",
    "test_df1 = pd.get_dummies(test_df[cat_cols])\n",
    "test_df1 = pd.concat((pd.DataFrame(normalize(test_df[num_cols]), columns = num_cols), test_df1), axis=1)"
   ]
  },
  {
   "cell_type": "code",
   "execution_count": 38,
   "metadata": {
    "colab": {
     "base_uri": "https://localhost:8080/",
     "height": 334
    },
    "id": "LdkOI4vk1SBs",
    "outputId": "a04c1928-441f-4d84-f393-f4a55291f96f"
   },
   "outputs": [
    {
     "data": {
      "text/html": [
       "\n",
       "  <div id=\"df-f480e67d-b795-4ffa-99d2-7e9f85bed55a\">\n",
       "    <div class=\"colab-df-container\">\n",
       "      <div>\n",
       "<style scoped>\n",
       "    .dataframe tbody tr th:only-of-type {\n",
       "        vertical-align: middle;\n",
       "    }\n",
       "\n",
       "    .dataframe tbody tr th {\n",
       "        vertical-align: top;\n",
       "    }\n",
       "\n",
       "    .dataframe thead th {\n",
       "        text-align: right;\n",
       "    }\n",
       "</style>\n",
       "<table border=\"1\" class=\"dataframe\">\n",
       "  <thead>\n",
       "    <tr style=\"text-align: right;\">\n",
       "      <th></th>\n",
       "      <th>ClientPeriod</th>\n",
       "      <th>MonthlySpending</th>\n",
       "      <th>TotalSpent</th>\n",
       "      <th>IsSeniorCitizen</th>\n",
       "      <th>Sex_Female</th>\n",
       "      <th>Sex_Male</th>\n",
       "      <th>HasPartner_No</th>\n",
       "      <th>HasPartner_Yes</th>\n",
       "      <th>HasChild_No</th>\n",
       "      <th>HasChild_Yes</th>\n",
       "      <th>...</th>\n",
       "      <th>HasMovieSubscription_Yes</th>\n",
       "      <th>HasContractPhone_Month-to-month</th>\n",
       "      <th>HasContractPhone_One year</th>\n",
       "      <th>HasContractPhone_Two year</th>\n",
       "      <th>IsBillingPaperless_No</th>\n",
       "      <th>IsBillingPaperless_Yes</th>\n",
       "      <th>PaymentMethod_Bank transfer (automatic)</th>\n",
       "      <th>PaymentMethod_Credit card (automatic)</th>\n",
       "      <th>PaymentMethod_Electronic check</th>\n",
       "      <th>PaymentMethod_Mailed check</th>\n",
       "    </tr>\n",
       "  </thead>\n",
       "  <tbody>\n",
       "    <tr>\n",
       "      <th>0</th>\n",
       "      <td>0.053502</td>\n",
       "      <td>0.018969</td>\n",
       "      <td>0.998388</td>\n",
       "      <td>0</td>\n",
       "      <td>0</td>\n",
       "      <td>1</td>\n",
       "      <td>0</td>\n",
       "      <td>1</td>\n",
       "      <td>0</td>\n",
       "      <td>1</td>\n",
       "      <td>...</td>\n",
       "      <td>0</td>\n",
       "      <td>0</td>\n",
       "      <td>1</td>\n",
       "      <td>0</td>\n",
       "      <td>1</td>\n",
       "      <td>0</td>\n",
       "      <td>0</td>\n",
       "      <td>0</td>\n",
       "      <td>0</td>\n",
       "      <td>1</td>\n",
       "    </tr>\n",
       "    <tr>\n",
       "      <th>1</th>\n",
       "      <td>0.038425</td>\n",
       "      <td>0.013796</td>\n",
       "      <td>0.999166</td>\n",
       "      <td>0</td>\n",
       "      <td>0</td>\n",
       "      <td>1</td>\n",
       "      <td>0</td>\n",
       "      <td>1</td>\n",
       "      <td>1</td>\n",
       "      <td>0</td>\n",
       "      <td>...</td>\n",
       "      <td>0</td>\n",
       "      <td>0</td>\n",
       "      <td>0</td>\n",
       "      <td>1</td>\n",
       "      <td>1</td>\n",
       "      <td>0</td>\n",
       "      <td>0</td>\n",
       "      <td>1</td>\n",
       "      <td>0</td>\n",
       "      <td>0</td>\n",
       "    </tr>\n",
       "    <tr>\n",
       "      <th>2</th>\n",
       "      <td>0.009316</td>\n",
       "      <td>0.707076</td>\n",
       "      <td>0.707076</td>\n",
       "      <td>0</td>\n",
       "      <td>0</td>\n",
       "      <td>1</td>\n",
       "      <td>1</td>\n",
       "      <td>0</td>\n",
       "      <td>1</td>\n",
       "      <td>0</td>\n",
       "      <td>...</td>\n",
       "      <td>0</td>\n",
       "      <td>1</td>\n",
       "      <td>0</td>\n",
       "      <td>0</td>\n",
       "      <td>0</td>\n",
       "      <td>1</td>\n",
       "      <td>0</td>\n",
       "      <td>0</td>\n",
       "      <td>1</td>\n",
       "      <td>0</td>\n",
       "    </tr>\n",
       "    <tr>\n",
       "      <th>3</th>\n",
       "      <td>0.012444</td>\n",
       "      <td>0.030839</td>\n",
       "      <td>0.999447</td>\n",
       "      <td>1</td>\n",
       "      <td>1</td>\n",
       "      <td>0</td>\n",
       "      <td>0</td>\n",
       "      <td>1</td>\n",
       "      <td>1</td>\n",
       "      <td>0</td>\n",
       "      <td>...</td>\n",
       "      <td>0</td>\n",
       "      <td>1</td>\n",
       "      <td>0</td>\n",
       "      <td>0</td>\n",
       "      <td>1</td>\n",
       "      <td>0</td>\n",
       "      <td>0</td>\n",
       "      <td>0</td>\n",
       "      <td>0</td>\n",
       "      <td>1</td>\n",
       "    </tr>\n",
       "    <tr>\n",
       "      <th>4</th>\n",
       "      <td>0.008876</td>\n",
       "      <td>0.017050</td>\n",
       "      <td>0.999815</td>\n",
       "      <td>0</td>\n",
       "      <td>1</td>\n",
       "      <td>0</td>\n",
       "      <td>0</td>\n",
       "      <td>1</td>\n",
       "      <td>0</td>\n",
       "      <td>1</td>\n",
       "      <td>...</td>\n",
       "      <td>1</td>\n",
       "      <td>0</td>\n",
       "      <td>0</td>\n",
       "      <td>1</td>\n",
       "      <td>1</td>\n",
       "      <td>0</td>\n",
       "      <td>0</td>\n",
       "      <td>1</td>\n",
       "      <td>0</td>\n",
       "      <td>0</td>\n",
       "    </tr>\n",
       "  </tbody>\n",
       "</table>\n",
       "<p>5 rows × 45 columns</p>\n",
       "</div>\n",
       "      <button class=\"colab-df-convert\" onclick=\"convertToInteractive('df-f480e67d-b795-4ffa-99d2-7e9f85bed55a')\"\n",
       "              title=\"Convert this dataframe to an interactive table.\"\n",
       "              style=\"display:none;\">\n",
       "        \n",
       "  <svg xmlns=\"http://www.w3.org/2000/svg\" height=\"24px\"viewBox=\"0 0 24 24\"\n",
       "       width=\"24px\">\n",
       "    <path d=\"M0 0h24v24H0V0z\" fill=\"none\"/>\n",
       "    <path d=\"M18.56 5.44l.94 2.06.94-2.06 2.06-.94-2.06-.94-.94-2.06-.94 2.06-2.06.94zm-11 1L8.5 8.5l.94-2.06 2.06-.94-2.06-.94L8.5 2.5l-.94 2.06-2.06.94zm10 10l.94 2.06.94-2.06 2.06-.94-2.06-.94-.94-2.06-.94 2.06-2.06.94z\"/><path d=\"M17.41 7.96l-1.37-1.37c-.4-.4-.92-.59-1.43-.59-.52 0-1.04.2-1.43.59L10.3 9.45l-7.72 7.72c-.78.78-.78 2.05 0 2.83L4 21.41c.39.39.9.59 1.41.59.51 0 1.02-.2 1.41-.59l7.78-7.78 2.81-2.81c.8-.78.8-2.07 0-2.86zM5.41 20L4 18.59l7.72-7.72 1.47 1.35L5.41 20z\"/>\n",
       "  </svg>\n",
       "      </button>\n",
       "      \n",
       "  <style>\n",
       "    .colab-df-container {\n",
       "      display:flex;\n",
       "      flex-wrap:wrap;\n",
       "      gap: 12px;\n",
       "    }\n",
       "\n",
       "    .colab-df-convert {\n",
       "      background-color: #E8F0FE;\n",
       "      border: none;\n",
       "      border-radius: 50%;\n",
       "      cursor: pointer;\n",
       "      display: none;\n",
       "      fill: #1967D2;\n",
       "      height: 32px;\n",
       "      padding: 0 0 0 0;\n",
       "      width: 32px;\n",
       "    }\n",
       "\n",
       "    .colab-df-convert:hover {\n",
       "      background-color: #E2EBFA;\n",
       "      box-shadow: 0px 1px 2px rgba(60, 64, 67, 0.3), 0px 1px 3px 1px rgba(60, 64, 67, 0.15);\n",
       "      fill: #174EA6;\n",
       "    }\n",
       "\n",
       "    [theme=dark] .colab-df-convert {\n",
       "      background-color: #3B4455;\n",
       "      fill: #D2E3FC;\n",
       "    }\n",
       "\n",
       "    [theme=dark] .colab-df-convert:hover {\n",
       "      background-color: #434B5C;\n",
       "      box-shadow: 0px 1px 3px 1px rgba(0, 0, 0, 0.15);\n",
       "      filter: drop-shadow(0px 1px 2px rgba(0, 0, 0, 0.3));\n",
       "      fill: #FFFFFF;\n",
       "    }\n",
       "  </style>\n",
       "\n",
       "      <script>\n",
       "        const buttonEl =\n",
       "          document.querySelector('#df-f480e67d-b795-4ffa-99d2-7e9f85bed55a button.colab-df-convert');\n",
       "        buttonEl.style.display =\n",
       "          google.colab.kernel.accessAllowed ? 'block' : 'none';\n",
       "\n",
       "        async function convertToInteractive(key) {\n",
       "          const element = document.querySelector('#df-f480e67d-b795-4ffa-99d2-7e9f85bed55a');\n",
       "          const dataTable =\n",
       "            await google.colab.kernel.invokeFunction('convertToInteractive',\n",
       "                                                     [key], {});\n",
       "          if (!dataTable) return;\n",
       "\n",
       "          const docLinkHtml = 'Like what you see? Visit the ' +\n",
       "            '<a target=\"_blank\" href=https://colab.research.google.com/notebooks/data_table.ipynb>data table notebook</a>'\n",
       "            + ' to learn more about interactive tables.';\n",
       "          element.innerHTML = '';\n",
       "          dataTable['output_type'] = 'display_data';\n",
       "          await google.colab.output.renderOutput(dataTable, element);\n",
       "          const docLink = document.createElement('div');\n",
       "          docLink.innerHTML = docLinkHtml;\n",
       "          element.appendChild(docLink);\n",
       "        }\n",
       "      </script>\n",
       "    </div>\n",
       "  </div>\n",
       "  "
      ],
      "text/plain": [
       "   ClientPeriod  MonthlySpending  TotalSpent  IsSeniorCitizen  Sex_Female  \\\n",
       "0      0.053502         0.018969    0.998388                0           0   \n",
       "1      0.038425         0.013796    0.999166                0           0   \n",
       "2      0.009316         0.707076    0.707076                0           0   \n",
       "3      0.012444         0.030839    0.999447                1           1   \n",
       "4      0.008876         0.017050    0.999815                0           1   \n",
       "\n",
       "   Sex_Male  HasPartner_No  HasPartner_Yes  HasChild_No  HasChild_Yes  ...  \\\n",
       "0         1              0               1            0             1  ...   \n",
       "1         1              0               1            1             0  ...   \n",
       "2         1              1               0            1             0  ...   \n",
       "3         0              0               1            1             0  ...   \n",
       "4         0              0               1            0             1  ...   \n",
       "\n",
       "   HasMovieSubscription_Yes  HasContractPhone_Month-to-month  \\\n",
       "0                         0                                0   \n",
       "1                         0                                0   \n",
       "2                         0                                1   \n",
       "3                         0                                1   \n",
       "4                         1                                0   \n",
       "\n",
       "   HasContractPhone_One year  HasContractPhone_Two year  \\\n",
       "0                          1                          0   \n",
       "1                          0                          1   \n",
       "2                          0                          0   \n",
       "3                          0                          0   \n",
       "4                          0                          1   \n",
       "\n",
       "   IsBillingPaperless_No  IsBillingPaperless_Yes  \\\n",
       "0                      1                       0   \n",
       "1                      1                       0   \n",
       "2                      0                       1   \n",
       "3                      1                       0   \n",
       "4                      1                       0   \n",
       "\n",
       "   PaymentMethod_Bank transfer (automatic)  \\\n",
       "0                                        0   \n",
       "1                                        0   \n",
       "2                                        0   \n",
       "3                                        0   \n",
       "4                                        0   \n",
       "\n",
       "   PaymentMethod_Credit card (automatic)  PaymentMethod_Electronic check  \\\n",
       "0                                      0                               0   \n",
       "1                                      1                               0   \n",
       "2                                      0                               1   \n",
       "3                                      0                               0   \n",
       "4                                      1                               0   \n",
       "\n",
       "   PaymentMethod_Mailed check  \n",
       "0                           1  \n",
       "1                           0  \n",
       "2                           0  \n",
       "3                           1  \n",
       "4                           0  \n",
       "\n",
       "[5 rows x 45 columns]"
      ]
     },
     "execution_count": 38,
     "metadata": {},
     "output_type": "execute_result"
    }
   ],
   "source": [
    "data1.head()"
   ]
  },
  {
   "cell_type": "code",
   "execution_count": 39,
   "metadata": {
    "colab": {
     "base_uri": "https://localhost:8080/"
    },
    "id": "fpJqPrrp1gZf",
    "outputId": "889e50d8-2a3b-4ce7-f053-cfd2654dfec3"
   },
   "outputs": [
    {
     "data": {
      "text/plain": [
       "GridSearchCV(cv=5, estimator=LogisticRegression(max_iter=300), n_jobs=-1,\n",
       "             param_grid={'C': [100.0, 95.0, 90.0, 85.0, 60.0]},\n",
       "             scoring='roc_auc')"
      ]
     },
     "execution_count": 39,
     "metadata": {},
     "output_type": "execute_result"
    }
   ],
   "source": [
    "lreg = LogisticRegression(max_iter =300)\n",
    "\n",
    "# опишем сетку, по которой будем искать\n",
    "param_grid = {\n",
    "    'C': [100., 95., 90., 85., 60.],   \n",
    "}\n",
    "'''\n",
    "'metric': ['manhattan', 'euclidean'],\n",
    "    'weights': ['uniform', 'distance'],'''\n",
    "\n",
    "# создадим объект GridSearchCV\n",
    "search = GridSearchCV(lreg, param_grid, n_jobs=-1, cv=5, refit=True, scoring='roc_auc')\n",
    "\n",
    "# запустим поиск\n",
    "search.fit(data1, data[target_col])"
   ]
  },
  {
   "cell_type": "code",
   "execution_count": 40,
   "metadata": {
    "colab": {
     "base_uri": "https://localhost:8080/"
    },
    "id": "Pl_nohl0H9rh",
    "outputId": "f62fa905-e3c9-457a-d761-1a0e28fa8efa"
   },
   "outputs": [
    {
     "data": {
      "text/plain": [
       "{'C': 90.0}"
      ]
     },
     "execution_count": 40,
     "metadata": {},
     "output_type": "execute_result"
    }
   ],
   "source": [
    "search.best_params_"
   ]
  },
  {
   "cell_type": "code",
   "execution_count": 41,
   "metadata": {
    "colab": {
     "base_uri": "https://localhost:8080/"
    },
    "id": "33rcUpJ3QzF9",
    "outputId": "02b32eb0-9177-4be5-c978-18a91978cf3b"
   },
   "outputs": [
    {
     "data": {
      "text/plain": [
       "0.846579230609192"
      ]
     },
     "execution_count": 41,
     "metadata": {},
     "output_type": "execute_result"
    }
   ],
   "source": [
    "search.best_score_"
   ]
  },
  {
   "cell_type": "code",
   "execution_count": 42,
   "metadata": {
    "colab": {
     "base_uri": "https://localhost:8080/"
    },
    "id": "oRuhNHiBKsVH",
    "outputId": "ae38f0fd-2c27-4e80-e06f-3ff2b37b8a55"
   },
   "outputs": [
    {
     "data": {
      "text/plain": [
       "0.7122364514780071"
      ]
     },
     "execution_count": 42,
     "metadata": {},
     "output_type": "execute_result"
    }
   ],
   "source": [
    "roc_auc_score(data[target_col], search.best_estimator_.predict(data1))"
   ]
  },
  {
   "cell_type": "markdown",
   "metadata": {
    "id": "uVahy6JKEEZQ"
   },
   "source": [
    "Лучшее качество"
   ]
  },
  {
   "cell_type": "markdown",
   "metadata": {
    "id": "tDLg-awiOnbX"
   },
   "source": [
    "**0.846579230609192**"
   ]
  },
  {
   "cell_type": "markdown",
   "metadata": {
    "id": "BlTeVy7fEEZR"
   },
   "source": [
    "## Применение градиентного бустинга"
   ]
  },
  {
   "cell_type": "code",
   "execution_count": 43,
   "metadata": {
    "id": "fRFvU6shvOjn"
   },
   "outputs": [],
   "source": [
    "#!pip install catboost"
   ]
  },
  {
   "cell_type": "code",
   "execution_count": null,
   "metadata": {
    "id": "U4i1Zq8gvJd7"
   },
   "outputs": [],
   "source": [
    "from catboost import CatBoostClassifier\n",
    "from google.colab import output\n",
    "output.enable_custom_widget_manager()"
   ]
  },
  {
   "cell_type": "code",
   "execution_count": 45,
   "metadata": {
    "id": "0kiqNB4Dz3vd"
   },
   "outputs": [],
   "source": [
    "X_train, X_test, y_train, y_test = train_test_split(data[feature_cols], data[target_col], train_size=0.7, random_state=42)"
   ]
  },
  {
   "cell_type": "code",
   "execution_count": null,
   "metadata": {},
   "outputs": [],
   "source": [
    "catboost_do = CatBoostClassifier()\n",
    "catboost_do.fit(X_train, y_train, cat_features=cat_cols)"
   ]
  },
  {
   "cell_type": "code",
   "execution_count": 47,
   "metadata": {
    "colab": {
     "base_uri": "https://localhost:8080/"
    },
    "id": "uZQ8MgemGlZT",
    "outputId": "7d7e8879-3216-490e-87dc-c7fde847201c"
   },
   "outputs": [
    {
     "data": {
      "text/plain": [
       "0.8321657854585873"
      ]
     },
     "execution_count": 47,
     "metadata": {},
     "output_type": "execute_result"
    }
   ],
   "source": [
    "roc_auc_score(y_test, catboost_do.predict_proba(X_test)[:, 1])"
   ]
  },
  {
   "cell_type": "code",
   "execution_count": null,
   "metadata": {},
   "outputs": [],
   "source": [
    "catboost = CatBoostClassifier(cat_features=cat_cols, eval_metric='AUC:hints=skip_train~false', silent=True)\n",
    "catboost.grid_search({'l2_leaf_reg': np.linspace(0.12, 0.13, 3),\n",
    "                      'iterations': (650,700,750),\n",
    "                      'learning_rate' : np.linspace(0.025, 0.035, 3),\n",
    "                      'depth': (2, 3, 4), \n",
    "                      },  data[feature_cols],\n",
    "                          data[target_col],\n",
    "                          #X_train, \n",
    "                          #y_train, \n",
    "                          #plot=True,\n",
    "                          search_by_train_test_split=True,\n",
    "                          refit=True)"
   ]
  },
  {
   "cell_type": "markdown",
   "metadata": {
    "id": "rf4Kjt96EEZU"
   },
   "source": [
    "Лучшее качество и параметры"
   ]
  },
  {
   "cell_type": "markdown",
   "metadata": {
    "id": "d2d9GolXEEZV"
   },
   "source": [
    "0.8598463026 'params': {'depth': 1,\n",
    "  'iterations': 400,\n",
    "  'learning_rate': 0.03115,\n",
    "  'l2_leaf_reg': 0.16}, Training on fold [2/3]"
   ]
  },
  {
   "cell_type": "markdown",
   "metadata": {
    "id": "dDMXbvNZEEZV"
   },
   "source": [
    "# Предсказания"
   ]
  },
  {
   "cell_type": "code",
   "execution_count": 53,
   "metadata": {
    "colab": {
     "base_uri": "https://localhost:8080/"
    },
    "id": "G_P4wFNaEEZW",
    "outputId": "43570719-64f5-4d81-81be-873ee541c858"
   },
   "outputs": [
    {
     "data": {
      "text/plain": [
       "<catboost.core.CatBoostClassifier at 0x7f2ffd47d6d0>"
      ]
     },
     "execution_count": 53,
     "metadata": {},
     "output_type": "execute_result"
    }
   ],
   "source": [
    "best_model = CatBoostClassifier(iterations=650, l2_leaf_reg=0.125, learning_rate = 0.035, depth = 3,  logging_level='Silent',cat_features=cat_cols, eval_metric='AUC:hints=skip_train~false')\n",
    "best_model.fit(data[feature_cols], data[target_col], cat_features=cat_cols)"
   ]
  },
  {
   "cell_type": "code",
   "execution_count": 56,
   "metadata": {
    "id": "FfSufx0CEEZZ"
   },
   "outputs": [],
   "source": [
    "X_test = pd.read_csv('/content/drive/MyDrive/colab/test.csv')\n",
    "\n",
    "submission = pd.read_csv('/content/drive/MyDrive/colab/submission.csv')\n",
    "\n",
    "submission['Churn'] = best_model.predict_proba(test_df)[:,1]\n",
    "submission.to_csv('/content/drive/MyDrive/colab/submission1.csv', index = False)"
   ]
  },
  {
   "cell_type": "markdown",
   "metadata": {
    "id": "2COTuViTuLiK"
   },
   "source": [
    "Score: 0.85432\n",
    "![image.png](data:image/png;base64,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)"
   ]
  },
  {
   "cell_type": "markdown",
   "metadata": {
    "id": "mkxjbGkVEEZc"
   },
   "source": [
    "# Kaggle\n",
    "\n",
    "https://www.kaggle.com/competitions/advanced-dls-spring-2021/overview"
   ]
  }
 ],
 "metadata": {
  "colab": {
   "collapsed_sections": [],
   "provenance": []
  },
  "kernelspec": {
   "display_name": "Python 3 (ipykernel)",
   "language": "python",
   "name": "python3"
  },
  "language_info": {
   "codemirror_mode": {
    "name": "ipython",
    "version": 3
   },
   "file_extension": ".py",
   "mimetype": "text/x-python",
   "name": "python",
   "nbconvert_exporter": "python",
   "pygments_lexer": "ipython3",
   "version": "3.8.12"
  }
 },
 "nbformat": 4,
 "nbformat_minor": 1
}
